{
  "nbformat": 4,
  "nbformat_minor": 0,
  "metadata": {
    "colab": {
      "name": "Sarcasm Detection.ipynb",
      "provenance": [],
      "collapsed_sections": [],
      "include_colab_link": true
    },
    "kernelspec": {
      "name": "python3",
      "display_name": "Python 3"
    },
    "accelerator": "GPU"
  },
  "cells": [
    {
      "cell_type": "markdown",
      "metadata": {
        "id": "view-in-github",
        "colab_type": "text"
      },
      "source": [
        "<a href=\"https://colab.research.google.com/github/hardlyrichie/Poker-Classification/blob/master/Sarcasm_Detection.ipynb\" target=\"_parent\"><img src=\"https://colab.research.google.com/assets/colab-badge.svg\" alt=\"Open In Colab\"/></a>"
      ]
    },
    {
      "cell_type": "markdown",
      "metadata": {
        "id": "lnYFSVSnW_ST",
        "colab_type": "text"
      },
      "source": [
        "# Scarcasm Detection w/ Naive Bayes & N-Grams\n",
        "Richard Gao, Sequence Modeling MiniProject"
      ]
    },
    {
      "cell_type": "markdown",
      "metadata": {
        "id": "0vGLQIi5JQit",
        "colab_type": "text"
      },
      "source": [
        "We are using a dataset from Kaggle that scraped reddit for sarcastic comments (reddit users demark sarcasm by using the \\s ( sarcasm) tag) across multiple subreddits. With this dataset we classify between a sarcastic comment vs a normal comment."
      ]
    },
    {
      "cell_type": "markdown",
      "metadata": {
        "id": "0t1W90Q_Cxh1",
        "colab_type": "text"
      },
      "source": [
        "Kaggle Dataset: https://www.kaggle.com/danofer/sarcasm/version/4#train-balanced-sarcasm.csv"
      ]
    },
    {
      "cell_type": "code",
      "metadata": {
        "id": "DKk3zu4I85Z3",
        "colab_type": "code",
        "colab": {}
      },
      "source": [
        "import pandas as pd\n",
        "import gdown\n",
        "import numpy as np"
      ],
      "execution_count": 0,
      "outputs": []
    },
    {
      "cell_type": "markdown",
      "metadata": {
        "id": "6J9sdRupiBG9",
        "colab_type": "text"
      },
      "source": [
        "Current matplotlib has broken heatmaps, need to downgrade.\n",
        "\n",
        "https://datascience.stackexchange.com/questions/57245/seaborn-heatmap-not-displaying-correctly"
      ]
    },
    {
      "cell_type": "code",
      "metadata": {
        "id": "64xLVQQ0h9cH",
        "colab_type": "code",
        "outputId": "49f0da2a-0fd4-4a4f-f1e2-d53f31ecb33b",
        "colab": {
          "base_uri": "https://localhost:8080/",
          "height": 340
        }
      },
      "source": [
        "!pip uninstall matplotlib -y\n",
        "!pip install matplotlib==3.1.0"
      ],
      "execution_count": 0,
      "outputs": [
        {
          "output_type": "stream",
          "text": [
            "Uninstalling matplotlib-3.1.0:\n",
            "  Successfully uninstalled matplotlib-3.1.0\n",
            "Collecting matplotlib==3.1.0\n",
            "  Using cached https://files.pythonhosted.org/packages/da/83/d989ee20c78117c737ab40e0318ea221f1aed4e3f5a40b4f93541b369b93/matplotlib-3.1.0-cp36-cp36m-manylinux1_x86_64.whl\n",
            "Requirement already satisfied: kiwisolver>=1.0.1 in /usr/local/lib/python3.6/dist-packages (from matplotlib==3.1.0) (1.1.0)\n",
            "Requirement already satisfied: cycler>=0.10 in /usr/local/lib/python3.6/dist-packages (from matplotlib==3.1.0) (0.10.0)\n",
            "Requirement already satisfied: python-dateutil>=2.1 in /usr/local/lib/python3.6/dist-packages (from matplotlib==3.1.0) (2.6.1)\n",
            "Requirement already satisfied: pyparsing!=2.0.4,!=2.1.2,!=2.1.6,>=2.0.1 in /usr/local/lib/python3.6/dist-packages (from matplotlib==3.1.0) (2.4.2)\n",
            "Requirement already satisfied: numpy>=1.11 in /usr/local/lib/python3.6/dist-packages (from matplotlib==3.1.0) (1.17.3)\n",
            "Requirement already satisfied: setuptools in /usr/local/lib/python3.6/dist-packages (from kiwisolver>=1.0.1->matplotlib==3.1.0) (41.4.0)\n",
            "Requirement already satisfied: six in /usr/local/lib/python3.6/dist-packages (from cycler>=0.10->matplotlib==3.1.0) (1.12.0)\n",
            "\u001b[31mERROR: albumentations 0.1.12 has requirement imgaug<0.2.7,>=0.2.5, but you'll have imgaug 0.2.9 which is incompatible.\u001b[0m\n",
            "Installing collected packages: matplotlib\n",
            "Successfully installed matplotlib-3.1.0\n"
          ],
          "name": "stdout"
        },
        {
          "output_type": "display_data",
          "data": {
            "application/vnd.colab-display-data+json": {
              "pip_warning": {
                "packages": [
                  "matplotlib",
                  "mpl_toolkits"
                ]
              }
            }
          },
          "metadata": {
            "tags": []
          }
        }
      ]
    },
    {
      "cell_type": "markdown",
      "metadata": {
        "id": "4HONNFpiKCsI",
        "colab_type": "text"
      },
      "source": [
        "### Download and Exploring data"
      ]
    },
    {
      "cell_type": "code",
      "metadata": {
        "id": "LdBKeFDQJ3w2",
        "colab_type": "code",
        "outputId": "29329783-eee9-4679-a350-bff65c458af2",
        "colab": {
          "base_uri": "https://localhost:8080/",
          "height": 102
        }
      },
      "source": [
        "gdown.download('https://drive.google.com/uc?authuser=0&id=1IKUQuNFOS604P6VyXyxRYvkQBlYh-B4z&export=download',  'train-balanced-sarcasm.csv', quiet=False)"
      ],
      "execution_count": 0,
      "outputs": [
        {
          "output_type": "stream",
          "text": [
            "Downloading...\n",
            "From: https://drive.google.com/uc?authuser=0&id=1IKUQuNFOS604P6VyXyxRYvkQBlYh-B4z&export=download\n",
            "To: /content/train-balanced-sarcasm.csv\n",
            "255MB [00:02, 121MB/s] \n"
          ],
          "name": "stderr"
        },
        {
          "output_type": "execute_result",
          "data": {
            "text/plain": [
              "'train-balanced-sarcasm.csv'"
            ]
          },
          "metadata": {
            "tags": []
          },
          "execution_count": 3
        }
      ]
    },
    {
      "cell_type": "code",
      "metadata": {
        "id": "Ipse8PyRCGJo",
        "colab_type": "code",
        "colab": {}
      },
      "source": [
        "df = pd.read_csv('train-balanced-sarcasm.csv')"
      ],
      "execution_count": 0,
      "outputs": []
    },
    {
      "cell_type": "code",
      "metadata": {
        "id": "lrG2t6wRCXzG",
        "colab_type": "code",
        "outputId": "a6c14939-aad7-4cb9-c47a-1c6cfa728e6d",
        "colab": {
          "base_uri": "https://localhost:8080/",
          "height": 204
        }
      },
      "source": [
        "df.head()"
      ],
      "execution_count": 0,
      "outputs": [
        {
          "output_type": "execute_result",
          "data": {
            "text/html": [
              "<div>\n",
              "<style scoped>\n",
              "    .dataframe tbody tr th:only-of-type {\n",
              "        vertical-align: middle;\n",
              "    }\n",
              "\n",
              "    .dataframe tbody tr th {\n",
              "        vertical-align: top;\n",
              "    }\n",
              "\n",
              "    .dataframe thead th {\n",
              "        text-align: right;\n",
              "    }\n",
              "</style>\n",
              "<table border=\"1\" class=\"dataframe\">\n",
              "  <thead>\n",
              "    <tr style=\"text-align: right;\">\n",
              "      <th></th>\n",
              "      <th>label</th>\n",
              "      <th>comment</th>\n",
              "      <th>author</th>\n",
              "      <th>subreddit</th>\n",
              "      <th>score</th>\n",
              "      <th>ups</th>\n",
              "      <th>downs</th>\n",
              "      <th>date</th>\n",
              "      <th>created_utc</th>\n",
              "      <th>parent_comment</th>\n",
              "    </tr>\n",
              "  </thead>\n",
              "  <tbody>\n",
              "    <tr>\n",
              "      <th>0</th>\n",
              "      <td>0</td>\n",
              "      <td>NC and NH.</td>\n",
              "      <td>Trumpbart</td>\n",
              "      <td>politics</td>\n",
              "      <td>2</td>\n",
              "      <td>-1</td>\n",
              "      <td>-1</td>\n",
              "      <td>2016-10</td>\n",
              "      <td>2016-10-16 23:55:23</td>\n",
              "      <td>Yeah, I get that argument. At this point, I'd ...</td>\n",
              "    </tr>\n",
              "    <tr>\n",
              "      <th>1</th>\n",
              "      <td>0</td>\n",
              "      <td>You do know west teams play against west teams...</td>\n",
              "      <td>Shbshb906</td>\n",
              "      <td>nba</td>\n",
              "      <td>-4</td>\n",
              "      <td>-1</td>\n",
              "      <td>-1</td>\n",
              "      <td>2016-11</td>\n",
              "      <td>2016-11-01 00:24:10</td>\n",
              "      <td>The blazers and Mavericks (The wests 5 and 6 s...</td>\n",
              "    </tr>\n",
              "    <tr>\n",
              "      <th>2</th>\n",
              "      <td>0</td>\n",
              "      <td>They were underdogs earlier today, but since G...</td>\n",
              "      <td>Creepeth</td>\n",
              "      <td>nfl</td>\n",
              "      <td>3</td>\n",
              "      <td>3</td>\n",
              "      <td>0</td>\n",
              "      <td>2016-09</td>\n",
              "      <td>2016-09-22 21:45:37</td>\n",
              "      <td>They're favored to win.</td>\n",
              "    </tr>\n",
              "    <tr>\n",
              "      <th>3</th>\n",
              "      <td>0</td>\n",
              "      <td>This meme isn't funny none of the \"new york ni...</td>\n",
              "      <td>icebrotha</td>\n",
              "      <td>BlackPeopleTwitter</td>\n",
              "      <td>-8</td>\n",
              "      <td>-1</td>\n",
              "      <td>-1</td>\n",
              "      <td>2016-10</td>\n",
              "      <td>2016-10-18 21:03:47</td>\n",
              "      <td>deadass don't kill my buzz</td>\n",
              "    </tr>\n",
              "    <tr>\n",
              "      <th>4</th>\n",
              "      <td>0</td>\n",
              "      <td>I could use one of those tools.</td>\n",
              "      <td>cush2push</td>\n",
              "      <td>MaddenUltimateTeam</td>\n",
              "      <td>6</td>\n",
              "      <td>-1</td>\n",
              "      <td>-1</td>\n",
              "      <td>2016-12</td>\n",
              "      <td>2016-12-30 17:00:13</td>\n",
              "      <td>Yep can confirm I saw the tool they use for th...</td>\n",
              "    </tr>\n",
              "  </tbody>\n",
              "</table>\n",
              "</div>"
            ],
            "text/plain": [
              "   label  ...                                     parent_comment\n",
              "0      0  ...  Yeah, I get that argument. At this point, I'd ...\n",
              "1      0  ...  The blazers and Mavericks (The wests 5 and 6 s...\n",
              "2      0  ...                            They're favored to win.\n",
              "3      0  ...                         deadass don't kill my buzz\n",
              "4      0  ...  Yep can confirm I saw the tool they use for th...\n",
              "\n",
              "[5 rows x 10 columns]"
            ]
          },
          "metadata": {
            "tags": []
          },
          "execution_count": 5
        }
      ]
    },
    {
      "cell_type": "code",
      "metadata": {
        "id": "K2JAyBJrXj43",
        "colab_type": "code",
        "outputId": "0002583e-dfe8-4b14-bf29-33d80b87a7d2",
        "colab": {
          "base_uri": "https://localhost:8080/",
          "height": 272
        }
      },
      "source": [
        "df.info()"
      ],
      "execution_count": 0,
      "outputs": [
        {
          "output_type": "stream",
          "text": [
            "<class 'pandas.core.frame.DataFrame'>\n",
            "RangeIndex: 1010826 entries, 0 to 1010825\n",
            "Data columns (total 10 columns):\n",
            "label             1010826 non-null int64\n",
            "comment           1010773 non-null object\n",
            "author            1010826 non-null object\n",
            "subreddit         1010826 non-null object\n",
            "score             1010826 non-null int64\n",
            "ups               1010826 non-null int64\n",
            "downs             1010826 non-null int64\n",
            "date              1010826 non-null object\n",
            "created_utc       1010826 non-null object\n",
            "parent_comment    1010826 non-null object\n",
            "dtypes: int64(4), object(6)\n",
            "memory usage: 77.1+ MB\n"
          ],
          "name": "stdout"
        }
      ]
    },
    {
      "cell_type": "markdown",
      "metadata": {
        "id": "onu7EnvOF_y3",
        "colab_type": "text"
      },
      "source": [
        "The dataset clafficies 1 as sarcastic and 0 is normal.\n",
        "\n",
        "Looking into the dataset, some comments are missing (1010826 labels vs 1010773 comments). We fix this by dropping the rows that have `na` comments."
      ]
    },
    {
      "cell_type": "code",
      "metadata": {
        "id": "1Rh2SSdzXsYs",
        "colab_type": "code",
        "colab": {}
      },
      "source": [
        "df.dropna(subset=['comment'], inplace=True)"
      ],
      "execution_count": 0,
      "outputs": []
    },
    {
      "cell_type": "markdown",
      "metadata": {
        "id": "mEsL1IcjI1VQ",
        "colab_type": "text"
      },
      "source": [
        "Let's look at the dataset"
      ]
    },
    {
      "cell_type": "code",
      "metadata": {
        "id": "4zSvoEMuGfHn",
        "colab_type": "code",
        "colab": {}
      },
      "source": [
        "import matplotlib.pyplot as plt"
      ],
      "execution_count": 0,
      "outputs": []
    },
    {
      "cell_type": "code",
      "metadata": {
        "id": "zSKhFcEaHSHG",
        "colab_type": "code",
        "outputId": "0bc9482b-371f-4ed4-99bb-e34ab994d97f",
        "colab": {
          "base_uri": "https://localhost:8080/",
          "height": 295
        }
      },
      "source": [
        "s = df.loc[df['label'] == 1, 'comment'].size\n",
        "n = df.loc[df['label'] == 0, 'comment'].size\n",
        "bar = plt.bar(['sarcastic', 'normal'], [s, n], align='center', alpha=0.5)\n",
        "bar[1].set_color('r')\n",
        "plt.xlabel('Classes')\n",
        "plt.ylabel('Count')\n",
        "plt.title('Distribution of Dataset')\n",
        "plt.show()"
      ],
      "execution_count": 0,
      "outputs": [
        {
          "output_type": "display_data",
          "data": {
            "image/png": "[encoded data removed]",
            "text/plain": [
              "<Figure size 432x288 with 1 Axes>"
            ]
          },
          "metadata": {
            "tags": []
          }
        }
      ]
    },
    {
      "cell_type": "code",
      "metadata": {
        "id": "w7nwHSPFChlO",
        "colab_type": "code",
        "outputId": "0e0c6e44-1a75-473b-8b78-32593cdb89ea",
        "colab": {
          "base_uri": "https://localhost:8080/",
          "height": 34
        }
      },
      "source": [
        "df['label'].mean()"
      ],
      "execution_count": 0,
      "outputs": [
        {
          "output_type": "execute_result",
          "data": {
            "text/plain": [
              "0.4999816971763195"
            ]
          },
          "metadata": {
            "tags": []
          },
          "execution_count": 10
        }
      ]
    },
    {
      "cell_type": "markdown",
      "metadata": {
        "id": "YWb3LohoKc2p",
        "colab_type": "text"
      },
      "source": [
        "Let's look at sarcasm distributed between subreddits to see if a subreddit in this dataset is more sarcastic than another."
      ]
    },
    {
      "cell_type": "markdown",
      "metadata": {
        "id": "rpB8RgkeOkqN",
        "colab_type": "text"
      },
      "source": [
        "Most sarcastic subreddit with above 500 datapoints:"
      ]
    },
    {
      "cell_type": "code",
      "metadata": {
        "id": "kFZ0ZE0lKtoK",
        "colab_type": "code",
        "outputId": "a8f5833a-bba5-40c9-b183-bce6c36b5fe6",
        "colab": {
          "base_uri": "https://localhost:8080/",
          "height": 390
        }
      },
      "source": [
        "subreddits = df.groupby('subreddit')['label'].agg([np.size, np.mean])\n",
        "subreddits[subreddits['size'] > 500].sort_values(by='mean', ascending=False).head(10)"
      ],
      "execution_count": 0,
      "outputs": [
        {
          "output_type": "execute_result",
          "data": {
            "text/html": [
              "<div>\n",
              "<style scoped>\n",
              "    .dataframe tbody tr th:only-of-type {\n",
              "        vertical-align: middle;\n",
              "    }\n",
              "\n",
              "    .dataframe tbody tr th {\n",
              "        vertical-align: top;\n",
              "    }\n",
              "\n",
              "    .dataframe thead th {\n",
              "        text-align: right;\n",
              "    }\n",
              "</style>\n",
              "<table border=\"1\" class=\"dataframe\">\n",
              "  <thead>\n",
              "    <tr style=\"text-align: right;\">\n",
              "      <th></th>\n",
              "      <th>size</th>\n",
              "      <th>mean</th>\n",
              "    </tr>\n",
              "    <tr>\n",
              "      <th>subreddit</th>\n",
              "      <th></th>\n",
              "      <th></th>\n",
              "    </tr>\n",
              "  </thead>\n",
              "  <tbody>\n",
              "    <tr>\n",
              "      <th>creepyPMs</th>\n",
              "      <td>5466</td>\n",
              "      <td>0.784303</td>\n",
              "    </tr>\n",
              "    <tr>\n",
              "      <th>progun</th>\n",
              "      <td>541</td>\n",
              "      <td>0.709797</td>\n",
              "    </tr>\n",
              "    <tr>\n",
              "      <th>rage</th>\n",
              "      <td>886</td>\n",
              "      <td>0.697517</td>\n",
              "    </tr>\n",
              "    <tr>\n",
              "      <th>MensRights</th>\n",
              "      <td>3355</td>\n",
              "      <td>0.680775</td>\n",
              "    </tr>\n",
              "    <tr>\n",
              "      <th>Bad_Cop_No_Donut</th>\n",
              "      <td>902</td>\n",
              "      <td>0.678492</td>\n",
              "    </tr>\n",
              "    <tr>\n",
              "      <th>ShitRedditSays</th>\n",
              "      <td>1284</td>\n",
              "      <td>0.661994</td>\n",
              "    </tr>\n",
              "    <tr>\n",
              "      <th>niceguys</th>\n",
              "      <td>910</td>\n",
              "      <td>0.653846</td>\n",
              "    </tr>\n",
              "    <tr>\n",
              "      <th>conspiratard</th>\n",
              "      <td>663</td>\n",
              "      <td>0.653092</td>\n",
              "    </tr>\n",
              "    <tr>\n",
              "      <th>worldnews</th>\n",
              "      <td>26376</td>\n",
              "      <td>0.642516</td>\n",
              "    </tr>\n",
              "    <tr>\n",
              "      <th>Libertarian</th>\n",
              "      <td>2562</td>\n",
              "      <td>0.640125</td>\n",
              "    </tr>\n",
              "  </tbody>\n",
              "</table>\n",
              "</div>"
            ],
            "text/plain": [
              "                   size      mean\n",
              "subreddit                        \n",
              "creepyPMs          5466  0.784303\n",
              "progun              541  0.709797\n",
              "rage                886  0.697517\n",
              "MensRights         3355  0.680775\n",
              "Bad_Cop_No_Donut    902  0.678492\n",
              "ShitRedditSays     1284  0.661994\n",
              "niceguys            910  0.653846\n",
              "conspiratard        663  0.653092\n",
              "worldnews         26376  0.642516\n",
              "Libertarian        2562  0.640125"
            ]
          },
          "metadata": {
            "tags": []
          },
          "execution_count": 11
        }
      ]
    },
    {
      "cell_type": "markdown",
      "metadata": {
        "id": "oLQhirKPOtpr",
        "colab_type": "text"
      },
      "source": [
        "Least sarcastic subreddit with above 500 datapoints:"
      ]
    },
    {
      "cell_type": "code",
      "metadata": {
        "id": "WIbJCw7cN6NR",
        "colab_type": "code",
        "outputId": "bf0cda31-b779-4c8c-e575-3fe50e1f2b57",
        "colab": {
          "base_uri": "https://localhost:8080/",
          "height": 390
        }
      },
      "source": [
        "subreddits[subreddits['size'] > 500].sort_values(by='mean').head(10)"
      ],
      "execution_count": 0,
      "outputs": [
        {
          "output_type": "execute_result",
          "data": {
            "text/html": [
              "<div>\n",
              "<style scoped>\n",
              "    .dataframe tbody tr th:only-of-type {\n",
              "        vertical-align: middle;\n",
              "    }\n",
              "\n",
              "    .dataframe tbody tr th {\n",
              "        vertical-align: top;\n",
              "    }\n",
              "\n",
              "    .dataframe thead th {\n",
              "        text-align: right;\n",
              "    }\n",
              "</style>\n",
              "<table border=\"1\" class=\"dataframe\">\n",
              "  <thead>\n",
              "    <tr style=\"text-align: right;\">\n",
              "      <th></th>\n",
              "      <th>size</th>\n",
              "      <th>mean</th>\n",
              "    </tr>\n",
              "    <tr>\n",
              "      <th>subreddit</th>\n",
              "      <th></th>\n",
              "      <th></th>\n",
              "    </tr>\n",
              "  </thead>\n",
              "  <tbody>\n",
              "    <tr>\n",
              "      <th>Fireteams</th>\n",
              "      <td>510</td>\n",
              "      <td>0.035294</td>\n",
              "    </tr>\n",
              "    <tr>\n",
              "      <th>RoastMe</th>\n",
              "      <td>645</td>\n",
              "      <td>0.097674</td>\n",
              "    </tr>\n",
              "    <tr>\n",
              "      <th>me_irl</th>\n",
              "      <td>710</td>\n",
              "      <td>0.123944</td>\n",
              "    </tr>\n",
              "    <tr>\n",
              "      <th>Games</th>\n",
              "      <td>1341</td>\n",
              "      <td>0.227442</td>\n",
              "    </tr>\n",
              "    <tr>\n",
              "      <th>4chan</th>\n",
              "      <td>1074</td>\n",
              "      <td>0.245810</td>\n",
              "    </tr>\n",
              "    <tr>\n",
              "      <th>RocketLeagueExchange</th>\n",
              "      <td>508</td>\n",
              "      <td>0.257874</td>\n",
              "    </tr>\n",
              "    <tr>\n",
              "      <th>polandball</th>\n",
              "      <td>642</td>\n",
              "      <td>0.300623</td>\n",
              "    </tr>\n",
              "    <tr>\n",
              "      <th>buildapc</th>\n",
              "      <td>785</td>\n",
              "      <td>0.304459</td>\n",
              "    </tr>\n",
              "    <tr>\n",
              "      <th>CasualConversation</th>\n",
              "      <td>588</td>\n",
              "      <td>0.306122</td>\n",
              "    </tr>\n",
              "    <tr>\n",
              "      <th>KerbalSpaceProgram</th>\n",
              "      <td>505</td>\n",
              "      <td>0.314851</td>\n",
              "    </tr>\n",
              "  </tbody>\n",
              "</table>\n",
              "</div>"
            ],
            "text/plain": [
              "                      size      mean\n",
              "subreddit                           \n",
              "Fireteams              510  0.035294\n",
              "RoastMe                645  0.097674\n",
              "me_irl                 710  0.123944\n",
              "Games                 1341  0.227442\n",
              "4chan                 1074  0.245810\n",
              "RocketLeagueExchange   508  0.257874\n",
              "polandball             642  0.300623\n",
              "buildapc               785  0.304459\n",
              "CasualConversation     588  0.306122\n",
              "KerbalSpaceProgram     505  0.314851"
            ]
          },
          "metadata": {
            "tags": []
          },
          "execution_count": 12
        }
      ]
    },
    {
      "cell_type": "markdown",
      "metadata": {
        "id": "alDIM6chPkNQ",
        "colab_type": "text"
      },
      "source": [
        "## Training"
      ]
    },
    {
      "cell_type": "markdown",
      "metadata": {
        "id": "a_JyCh16PowN",
        "colab_type": "text"
      },
      "source": [
        "### Building n-grams"
      ]
    },
    {
      "cell_type": "markdown",
      "metadata": {
        "id": "4nOrR8nbTAKu",
        "colab_type": "text"
      },
      "source": [
        "We first clean up the text to extract just the words from the comments"
      ]
    },
    {
      "cell_type": "code",
      "metadata": {
        "id": "xcpmm8xHItn4",
        "colab_type": "code",
        "outputId": "9fb41eac-6324-421b-f53a-ac7ec9559d1c",
        "colab": {
          "base_uri": "https://localhost:8080/",
          "height": 68
        }
      },
      "source": [
        "# NLTK has a built-in module for extracting words from text.\n",
        "import nltk\n",
        "nltk.download('punkt')"
      ],
      "execution_count": 0,
      "outputs": [
        {
          "output_type": "stream",
          "text": [
            "[nltk_data] Downloading package punkt to /root/nltk_data...\n",
            "[nltk_data]   Package punkt is already up-to-date!\n"
          ],
          "name": "stdout"
        },
        {
          "output_type": "execute_result",
          "data": {
            "text/plain": [
              "True"
            ]
          },
          "metadata": {
            "tags": []
          },
          "execution_count": 13
        }
      ]
    },
    {
      "cell_type": "code",
      "metadata": {
        "id": "PWbW3q6hkM0t",
        "colab_type": "code",
        "colab": {}
      },
      "source": [
        "def remove_punctuation(article):\n",
        "  if not isinstance(article, str):\n",
        "    article = str(article)\n",
        "  # substitute in a regular apostrophe for '’' to word with word_tokenize\n",
        "  article = article.replace('’', \"'\")\n",
        "  tokens = nltk.tokenize.word_tokenize(article)\n",
        "  words = list(filter(lambda w: any(x.isalpha() for x in w), tokens))\n",
        "  return \" \".join(words)\n",
        "\n",
        "df['comment_no_punctuation'] = df['comment'].map(remove_punctuation)"
      ],
      "execution_count": 0,
      "outputs": []
    },
    {
      "cell_type": "code",
      "metadata": {
        "id": "Hoytnvb7pnUS",
        "colab_type": "code",
        "outputId": "8c8e4c77-8502-4111-a393-e5c2d4eae37b",
        "colab": {
          "base_uri": "https://localhost:8080/",
          "height": 119
        }
      },
      "source": [
        "df['comment_no_punctuation'].head()"
      ],
      "execution_count": 0,
      "outputs": [
        {
          "output_type": "execute_result",
          "data": {
            "text/plain": [
              "0                                            NC and NH\n",
              "1    You do know west teams play against west teams...\n",
              "2    They were underdogs earlier today but since Gr...\n",
              "3    This meme is n't funny none of the new york ni...\n",
              "4                       I could use one of those tools\n",
              "Name: comment_no_punctuation, dtype: object"
            ]
          },
          "metadata": {
            "tags": []
          },
          "execution_count": 15
        }
      ]
    },
    {
      "cell_type": "code",
      "metadata": {
        "id": "24UHxlCDKW5x",
        "colab_type": "code",
        "colab": {}
      },
      "source": [
        "import collections\n",
        "from nltk.util import ngrams"
      ],
      "execution_count": 0,
      "outputs": []
    },
    {
      "cell_type": "markdown",
      "metadata": {
        "id": "2urQCdPzEns1",
        "colab_type": "text"
      },
      "source": [
        "A 2-gram for a certain comment."
      ]
    },
    {
      "cell_type": "code",
      "metadata": {
        "id": "E_HwWhL6GtC4",
        "colab_type": "code",
        "outputId": "c066dd84-907f-4467-dbb3-65c3e41f9f46",
        "colab": {
          "base_uri": "https://localhost:8080/",
          "height": 187
        }
      },
      "source": [
        "s = df['comment_no_punctuation'].iloc[1]\n",
        "tokens = [token for token in s.split(\" \") if token != \"\"]\n",
        "bigramWords = list(ngrams(tokens, 2))\n",
        "bigramFreq = collections.Counter(bigramWords)\n",
        "\n",
        "bigramFreq.most_common(10)"
      ],
      "execution_count": 0,
      "outputs": [
        {
          "output_type": "execute_result",
          "data": {
            "text/plain": [
              "[(('west', 'teams'), 2),\n",
              " (('You', 'do'), 1),\n",
              " (('do', 'know'), 1),\n",
              " (('know', 'west'), 1),\n",
              " (('teams', 'play'), 1),\n",
              " (('play', 'against'), 1),\n",
              " (('against', 'west'), 1),\n",
              " (('teams', 'more'), 1),\n",
              " (('more', 'than'), 1),\n",
              " (('than', 'east'), 1)]"
            ]
          },
          "metadata": {
            "tags": []
          },
          "execution_count": 17
        }
      ]
    },
    {
      "cell_type": "markdown",
      "metadata": {
        "id": "De-NboyGJwmq",
        "colab_type": "text"
      },
      "source": [
        "Split into test train"
      ]
    },
    {
      "cell_type": "code",
      "metadata": {
        "id": "nTbrGGTKLgqE",
        "colab_type": "code",
        "colab": {}
      },
      "source": [
        "from sklearn.model_selection import train_test_split"
      ],
      "execution_count": 0,
      "outputs": []
    },
    {
      "cell_type": "code",
      "metadata": {
        "id": "c8jeQ40pLhm-",
        "colab_type": "code",
        "outputId": "a12aecfc-7668-4066-a753-e8ac4047f94a",
        "colab": {
          "base_uri": "https://localhost:8080/",
          "height": 85
        }
      },
      "source": [
        "y = np.array(df['label'])\n",
        "\n",
        "dfX_train, dfX_test, y_train, y_test = train_test_split(df['comment_no_punctuation'], y)\n",
        "print(\"df_train.shape\",dfX_train.shape)\n",
        "print(\"y_train.shape\",y_train.shape)\n",
        "print(\"dfX_test.shape\",dfX_test.shape)\n",
        "print(\"y_test.shape\",y_test.shape)"
      ],
      "execution_count": 0,
      "outputs": [
        {
          "output_type": "stream",
          "text": [
            "df_train.shape (758079,)\n",
            "y_train.shape (758079,)\n",
            "dfX_test.shape (252694,)\n",
            "y_test.shape (252694,)\n"
          ],
          "name": "stdout"
        }
      ]
    },
    {
      "cell_type": "markdown",
      "metadata": {
        "id": "CKkvzNNxE3eT",
        "colab_type": "text"
      },
      "source": [
        "Build n-gram using CountVectorizer"
      ]
    },
    {
      "cell_type": "code",
      "metadata": {
        "id": "X8df8EMlKTgk",
        "colab_type": "code",
        "colab": {}
      },
      "source": [
        "from sklearn.feature_extraction.text import CountVectorizer\n",
        "from sklearn.naive_bayes import MultinomialNB"
      ],
      "execution_count": 0,
      "outputs": []
    },
    {
      "cell_type": "code",
      "metadata": {
        "id": "bMZkYIAzJvB6",
        "colab_type": "code",
        "outputId": "52e234ba-662f-4860-b6a7-a61cb1e40b65",
        "colab": {
          "base_uri": "https://localhost:8080/",
          "height": 51
        }
      },
      "source": [
        "ngramvectorizer = CountVectorizer(ngram_range=(2,2))\n",
        "ngramvectorizer.fit(dfX_train) #learn a vocabulary dictionary of all tokens in the raw documents\n",
        "\n",
        "X_train_ngram = ngramvectorizer.transform(dfX_train)\n",
        "X_test_ngram = ngramvectorizer.transform(dfX_test)\n",
        "print(\"X_train_ngram.shape\", X_train_ngram.shape)\n",
        "print(\"X_test_ngram.shape\", X_test_ngram.shape)"
      ],
      "execution_count": 0,
      "outputs": [
        {
          "output_type": "stream",
          "text": [
            "X_train_ngram.shape (758079, 1801966)\n",
            "X_test_ngram.shape (252694, 1801966)\n"
          ],
          "name": "stdout"
        }
      ]
    },
    {
      "cell_type": "markdown",
      "metadata": {
        "id": "HoMb4ZdGE6I5",
        "colab_type": "text"
      },
      "source": [
        "Train and fit with Naive Bayes Model"
      ]
    },
    {
      "cell_type": "code",
      "metadata": {
        "id": "0y3l6vJpNF1G",
        "colab_type": "code",
        "outputId": "d94e5b31-28bb-4b22-cef0-9f0723112ec5",
        "colab": {
          "base_uri": "https://localhost:8080/",
          "height": 51
        }
      },
      "source": [
        "# Actually run the model and print results\n",
        "model = MultinomialNB(alpha=1)\n",
        "model.fit(X_train_ngram, y_train)\n",
        "\n",
        "y_pred_train = model.predict(X_train_ngram)\n",
        "print(\"Training accuracy: \", np.mean(y_pred_train == y_train))\n",
        "y_pred = model.predict(X_test_ngram)\n",
        "print(\"Testing accuracy: \",np.mean(y_pred == y_test))"
      ],
      "execution_count": 0,
      "outputs": [
        {
          "output_type": "stream",
          "text": [
            "Training accuracy:  0.8945769504233727\n",
            "Testing accuracy:  0.696676612820249\n"
          ],
          "name": "stdout"
        }
      ]
    },
    {
      "cell_type": "markdown",
      "metadata": {
        "id": "j9KSHhwiPzOg",
        "colab_type": "text"
      },
      "source": [
        "**Some Experimentation Results in Accuracy**\n",
        "\n",
        "2-gram accuracy: \n",
        "* train: .89\n",
        "* test: .70\n",
        "\n",
        "3-gram accuracy: .65\n",
        "\n",
        "5-gram accuracy: .53\n",
        "\n",
        "2-5 gram accuracy: \n",
        "* train: .96\n",
        "* test: .70\n",
        "\n",
        "It looks like 2-grams are the most accurate in being features that represent sarcasm."
      ]
    },
    {
      "cell_type": "markdown",
      "metadata": {
        "id": "IzhEIr1BS3zn",
        "colab_type": "text"
      },
      "source": [
        "## Interpretation"
      ]
    },
    {
      "cell_type": "code",
      "metadata": {
        "id": "LBfXvJvIS5Fe",
        "colab_type": "code",
        "colab": {}
      },
      "source": [
        "from sklearn.metrics import confusion_matrix\n",
        "import seaborn as sns"
      ],
      "execution_count": 0,
      "outputs": []
    },
    {
      "cell_type": "code",
      "metadata": {
        "id": "secPf812Tj_m",
        "colab_type": "code",
        "outputId": "2c0ef8be-bd41-483d-cc9a-aa77bbab4338",
        "colab": {
          "base_uri": "https://localhost:8080/",
          "height": 295
        }
      },
      "source": [
        "def plot_confusion_matrix(y_true, y_pred, classes, title='Confusion matrix', cmap=plt.cm.YlOrRd):\n",
        "  # Compute confusion matrix\n",
        "  cm = confusion_matrix(y_true, y_pred)\n",
        "\n",
        "  ax = plt.subplot()\n",
        "  sns.heatmap(cm, annot=True, ax=ax, cmap=cmap, fmt='d')\n",
        "\n",
        "  # labels, title and ticks\n",
        "  ax.set_xlabel('Predicted labels')\n",
        "  ax.set_ylabel('True labels')\n",
        "  ax.set_title('Confusion Matrix') \n",
        "  ax.xaxis.set_ticklabels(classes) \n",
        "  ax.yaxis.set_ticklabels(classes)\n",
        "\n",
        "# Plot confusion matrix\n",
        "plt.figure()\n",
        "classes = ['Normal', 'Sarcastic']\n",
        "plot_confusion_matrix(y_test, y_pred, classes)"
      ],
      "execution_count": 0,
      "outputs": [
        {
          "output_type": "display_data",
          "data": {
            "image/png": "[encoded data removed]",
            "text/plain": [
              "<Figure size 432x288 with 2 Axes>"
            ]
          },
          "metadata": {
            "tags": []
          }
        }
      ]
    },
    {
      "cell_type": "markdown",
      "metadata": {
        "id": "OT_zQB1lkgxZ",
        "colab_type": "text"
      },
      "source": [
        "Let's find the most sarcastic and least sarcastic n-grams"
      ]
    },
    {
      "cell_type": "code",
      "metadata": {
        "id": "rE0IrlNNkjq_",
        "colab_type": "code",
        "colab": {}
      },
      "source": [
        "# model.feature_log_prob_ gives us the log probability of each of the features\n",
        "# conditioned on a particular class.\n",
        "log_probs = model.feature_log_prob_\n",
        "# model.classes_ tells us which class corresponds to a particular row in\n",
        "# model.feature_log_prob_.\n",
        "class_mapping = model.classes_"
      ],
      "execution_count": 0,
      "outputs": []
    },
    {
      "cell_type": "code",
      "metadata": {
        "id": "lmLAct3PyNtF",
        "colab_type": "code",
        "colab": {}
      },
      "source": [
        "pos_index = np.where(class_mapping == 1)[0][0]\n",
        "neg_index = np.where(class_mapping == 0)[0][0]"
      ],
      "execution_count": 0,
      "outputs": []
    },
    {
      "cell_type": "code",
      "metadata": {
        "id": "oB_nlYMbyuMN",
        "colab_type": "code",
        "outputId": "87b772e8-094f-4b27-bf58-8a0d9798e6b5",
        "colab": {
          "base_uri": "https://localhost:8080/",
          "height": 34
        }
      },
      "source": [
        "difference_in_log_probs_by_ngram = log_probs[pos_index,:] - log_probs[neg_index,:]\n",
        "print(f\"the n-gram that bumps up the log probability of a saracstic comment as much as possible is ({ngramvectorizer.get_feature_names()[np.argmax(difference_in_log_probs_by_ngram)]})\")"
      ],
      "execution_count": 0,
      "outputs": [
        {
          "output_type": "stream",
          "text": [
            "the n-gram that bumps up the log probability of a saracstic comment as much as possible is (forgot your)\n"
          ],
          "name": "stdout"
        }
      ]
    },
    {
      "cell_type": "code",
      "metadata": {
        "id": "gypd_o5UzTnf",
        "colab_type": "code",
        "outputId": "555284d3-17a5-4a8f-d280-6463acf25b3d",
        "colab": {
          "base_uri": "https://localhost:8080/",
          "height": 34
        }
      },
      "source": [
        "print(f\"the n-gram that bumps up the log probability of a normal comment as much as possible is ({ngramvectorizer.get_feature_names()[np.argmin(difference_in_log_probs_by_ngram)]})\")"
      ],
      "execution_count": 0,
      "outputs": [
        {
          "output_type": "stream",
          "text": [
            "the n-gram that bumps up the log probability of a normal comment as much as possible is (comcast comcast)\n"
          ],
          "name": "stdout"
        }
      ]
    },
    {
      "cell_type": "code",
      "metadata": {
        "id": "ziWhL_LCzyKL",
        "colab_type": "code",
        "colab": {}
      },
      "source": [
        "weighted_differences = np.multiply(X_test_ngram.mean(axis=0), difference_in_log_probs_by_ngram)"
      ],
      "execution_count": 0,
      "outputs": []
    },
    {
      "cell_type": "code",
      "metadata": {
        "id": "gN388EMSz7Ag",
        "colab_type": "code",
        "outputId": "36e79451-2cfc-41a3-83ea-1ae76607950b",
        "colab": {
          "base_uri": "https://localhost:8080/",
          "height": 34
        }
      },
      "source": [
        "print(f\"the n-gram that bumps up the log probability of a sarcastic comment as much as possible weighted by prevalence is ({ngramvectorizer.get_feature_names()[np.argmax(weighted_differences)]})\")"
      ],
      "execution_count": 0,
      "outputs": [
        {
          "output_type": "stream",
          "text": [
            "the n-gram that bumps up the log probability of a sarcastic comment as much as possible weighted by prevalence is (forgot the)\n"
          ],
          "name": "stdout"
        }
      ]
    },
    {
      "cell_type": "code",
      "metadata": {
        "id": "fq251dQpKAFU",
        "colab_type": "code",
        "outputId": "6a8717e2-4977-42e6-dedf-9dc69987956b",
        "colab": {
          "base_uri": "https://localhost:8080/",
          "height": 34
        }
      },
      "source": [
        "print(f\"the n-gram that bumps up the log probability of a normal comment as much as possible weighted by prevalence is ({ngramvectorizer.get_feature_names()[np.argmin(weighted_differences)]})\")"
      ],
      "execution_count": 0,
      "outputs": [
        {
          "output_type": "stream",
          "text": [
            "the n-gram that bumps up the log probability of a normal comment as much as possible weighted by prevalence is (fuck fuck)\n"
          ],
          "name": "stdout"
        }
      ]
    },
    {
      "cell_type": "markdown",
      "metadata": {
        "id": "anljqW8yNQUn",
        "colab_type": "text"
      },
      "source": [
        "**Top most sarcastic n-grams**"
      ]
    },
    {
      "cell_type": "code",
      "metadata": {
        "id": "QF-BXCIWLwDR",
        "colab_type": "code",
        "colab": {}
      },
      "source": [
        "least_ind = np.argsort(weighted_differences.getA()[0,:])\n",
        "most_ind = least_ind[::-1]\n",
        "ngrams = ngramvectorizer.get_feature_names()"
      ],
      "execution_count": 0,
      "outputs": []
    },
    {
      "cell_type": "code",
      "metadata": {
        "id": "N-HtGxvKRaJZ",
        "colab_type": "code",
        "outputId": "0edfd313-5d11-413c-ce4a-0ace18dcc66c",
        "colab": {
          "base_uri": "https://localhost:8080/",
          "height": 204
        }
      },
      "source": [
        "n = 10\n",
        "print(f\"Top {n} most sarcastic n-grams: \")\n",
        "for i in range(n):\n",
        "  print(ngrams[most_ind[i]])"
      ],
      "execution_count": 0,
      "outputs": [
        {
          "output_type": "stream",
          "text": [
            "Top 10 most sarcastic n-grams: \n",
            "forgot the\n",
            "you forgot\n",
            "yeah because\n",
            "yes because\n",
            "but but\n",
            "you dropped\n",
            "dropped this\n",
            "must be\n",
            "yeah but\n",
            "you re\n"
          ],
          "name": "stdout"
        }
      ]
    },
    {
      "cell_type": "markdown",
      "metadata": {
        "id": "keNc0guKXMsY",
        "colab_type": "text"
      },
      "source": [
        "**Least most sarcastic n-grams**"
      ]
    },
    {
      "cell_type": "code",
      "metadata": {
        "id": "dkw9jmV9W4_P",
        "colab_type": "code",
        "outputId": "f981214d-1e64-4ee3-d63b-2084d5343271",
        "colab": {
          "base_uri": "https://localhost:8080/",
          "height": 204
        }
      },
      "source": [
        "print(f\"Top {n} least sarcastic n-grams: \")\n",
        "for i in range(n):\n",
        "  print(ngrams[least_ind[i]])"
      ],
      "execution_count": 0,
      "outputs": [
        {
          "output_type": "stream",
          "text": [
            "Top 10 least sarcastic n-grams: \n",
            "fuck fuck\n",
            "trump donald\n",
            "money money\n",
            "of the\n",
            "if you\n",
            "in the\n",
            "would be\n",
            "you can\n",
            "it was\n",
            "one of\n"
          ],
          "name": "stdout"
        }
      ]
    }
  ]
}